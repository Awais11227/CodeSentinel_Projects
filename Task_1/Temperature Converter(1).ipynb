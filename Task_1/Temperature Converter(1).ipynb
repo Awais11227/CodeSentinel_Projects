{
 "cells": [
  {
   "cell_type": "markdown",
   "id": "7b46e2b2",
   "metadata": {},
   "source": [
    "# Task 1\n",
    "# Temperature Converter"
   ]
  },
  {
   "cell_type": "code",
   "execution_count": 1,
   "id": "74100372",
   "metadata": {},
   "outputs": [
    {
     "name": "stdout",
     "output_type": "stream",
     "text": [
      "Temperature Converter\n",
      "-------------------\n",
      "37.0°C is 98.6°F\n",
      "\n",
      "Goodbye!\n"
     ]
    }
   ],
   "source": [
    "\n",
    "print(\"Temperature Converter\")                                                          # Temperature Converter\n",
    "print(\"-------------------\")\n",
    "\n",
    "#  input from user\n",
    "user_input = input(\"Enter temperature ( 37C or 98F) \").strip()\n",
    "\n",
    "# Validate input \n",
    "if len(user_input) < 2:\n",
    "    print(\"Invalid input. Please enter a number followed by C or F.\")\n",
    "else:\n",
    "    # Extract the unit \n",
    "    unit = user_input[-1].upper()\n",
    "    \n",
    "    # Extract the numeric part \n",
    "    temp_str = user_input[:-1]\n",
    "    \n",
    "    # onvert numeric part to float\n",
    "    try:\n",
    "        temp_value = float(temp_str)\n",
    "        \n",
    "        if unit == 'C':\n",
    "            # Convert Celsius to Fahrenheit\n",
    "            converted = (temp_value * 9/5) + 32\n",
    "            print(f\"{temp_value}°C is {converted:.1f}°F\")\n",
    "        elif unit == 'F':\n",
    "            # Convert Fahrenheit to Celsius\n",
    "            converted = (temp_value - 32) * 5/9\n",
    "            print(f\"{temp_value}°F = {converted:.1f}°C\")\n",
    "        else:\n",
    "            print(\"Invalid unit. Please use C for Celsius or F for Fahrenheit.\")\n",
    "            \n",
    "    except ValueError:\n",
    "        print(\"Invalid number. Please enter a valid temperature value.\")\n",
    "\n",
    "# Final message\n",
    "print(\"\\nGoodbye!\")"
   ]
  },
  {
   "cell_type": "code",
   "execution_count": null,
   "id": "a9064ea1",
   "metadata": {},
   "outputs": [],
   "source": []
  }
 ],
 "metadata": {
  "kernelspec": {
   "display_name": "Python 3",
   "language": "python",
   "name": "python3"
  },
  "language_info": {
   "codemirror_mode": {
    "name": "ipython",
    "version": 3
   },
   "file_extension": ".py",
   "mimetype": "text/x-python",
   "name": "python",
   "nbconvert_exporter": "python",
   "pygments_lexer": "ipython3",
   "version": "3.12.2"
  }
 },
 "nbformat": 4,
 "nbformat_minor": 5
}
