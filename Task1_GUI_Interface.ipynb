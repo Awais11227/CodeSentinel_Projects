{
 "cells": [
  {
   "cell_type": "markdown",
   "id": "b1537102",
   "metadata": {},
   "source": [
    "# Task 1 GUI Interface \n",
    "## Temperature Converter\n"
   ]
  },
  {
   "cell_type": "code",
   "execution_count": 4,
   "id": "92b642f1",
   "metadata": {},
   "outputs": [],
   "source": [
    "import tkinter as tk\n",
    "\n",
    "\n",
    "def convert_temp():\n",
    "    user_input = entry.get().strip()\n",
    "    if len(user_input) < 2:\n",
    "        result_label.config(text=\" Invalid input. Use format like 37C or 98F.\", fg=\"red\")\n",
    "        return\n",
    "\n",
    "    unit = user_input[-1].upper()\n",
    "    number_part = user_input[:-1]\n",
    "\n",
    "    try:\n",
    "        value = float(number_part)\n",
    "        if unit == \"C\":\n",
    "            converted = (value * 9/5) + 32\n",
    "            result_label.config(text=f\"{value}°C = {converted:.1f}°F \", fg=\"green\")\n",
    "        elif unit == \"F\":\n",
    "            converted = (value - 32) * 5/9\n",
    "            result_label.config(text=f\"{value}°F = {converted:.1f}°C \", fg=\"green\")\n",
    "        else:\n",
    "            result_label.config(text=\"⚠ Unit must be C or F only.\", fg=\"orange\")\n",
    "    except ValueError:\n",
    "        result_label.config(text=\" Please enter a valid number.\", fg=\"red\")\n",
    "\n",
    "# Exit function\n",
    "def exit_app():\n",
    "    root.destroy()\n",
    "\n",
    "# Window setup\n",
    "root = tk.Tk()\n",
    "root.title(\"🌡 Temperature Converter\")\n",
    "root.geometry(\"420x250\")\n",
    "root.configure(bg=\"#F2F2F2\")\n",
    "root.resizable(False, False)\n",
    "\n",
    "# Title\n",
    "title_label = tk.Label(root, text=\"Temperature Converter\", font=(\"Arial\", 16, \"bold\"), bg=\"#F2F2F2\", fg=\"#2C3E50\")\n",
    "title_label.pack(pady=12)\n",
    "\n",
    "# Instruction\n",
    "instruction_label = tk.Label(root, text=\"Enter temperature (e.g. 37C or 98F):\", font=(\"Arial\", 12), bg=\"#F2F2F2\")\n",
    "instruction_label.pack()\n",
    "\n",
    "# Entry box\n",
    "entry = tk.Entry(root, font=(\"Arial\", 12), width=20, justify=\"center\", bg=\"#E8F0FE\")\n",
    "entry.pack(pady=8)\n",
    "\n",
    "# Buttons frame\n",
    "btn_frame = tk.Frame(root, bg=\"#F2F2F2\")\n",
    "btn_frame.pack(pady=12)\n",
    "\n",
    "convert_btn = tk.Button(btn_frame, text=\"Convert\", font=(\"Arial\", 10, \"bold\"),\n",
    "                        bg=\"#3498DB\", fg=\"white\", width=10, command=convert_temp)\n",
    "convert_btn.pack(side=\"left\", padx=6)\n",
    "\n",
    "exit_btn = tk.Button(btn_frame, text=\"Exit\", font=(\"Arial\", 10, \"bold\"),\n",
    "                     bg=\"#E74C3C\", fg=\"white\", width=10, command=exit_app)\n",
    "exit_btn.pack(side=\"right\", padx=6)\n",
    "\n",
    "# Result label\n",
    "result_label = tk.Label(root, text=\"\", font=(\"Arial\", 12), bg=\"#F2F2F2\")\n",
    "result_label.pack(pady=10)\n",
    "\n",
    "root.mainloop()\n"
   ]
  },
  {
   "cell_type": "code",
   "execution_count": null,
   "id": "3ba8827f",
   "metadata": {},
   "outputs": [],
   "source": []
  }
 ],
 "metadata": {
  "kernelspec": {
   "display_name": "Python 3",
   "language": "python",
   "name": "python3"
  },
  "language_info": {
   "codemirror_mode": {
    "name": "ipython",
    "version": 3
   },
   "file_extension": ".py",
   "mimetype": "text/x-python",
   "name": "python",
   "nbconvert_exporter": "python",
   "pygments_lexer": "ipython3",
   "version": "3.12.2"
  }
 },
 "nbformat": 4,
 "nbformat_minor": 5
}
